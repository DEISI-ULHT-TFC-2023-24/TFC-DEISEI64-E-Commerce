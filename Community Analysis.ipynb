{
 "cells": [
  {
   "cell_type": "code",
   "execution_count": 4,
   "metadata": {},
   "outputs": [],
   "source": [
    "import pandas as pd\n",
    "import matplotlib.pyplot as plt\n",
    "import seaborn as sns\n",
    "import numpy as np\n",
    "import networkx as nx\n",
    "\n",
    "# Importing Client .csv file resulting from Gephi\n",
    "table_client = pd.read_csv('TableProduct-Product.csv')\n",
    "\n",
    "# Importing Product .csv file resulting from Gephi\n",
    "table_product = pd.read_csv('TableProduct-Product.csv')\n",
    "\n",
    "# Importing Product-Product and Client-Client files\n",
    "\n",
    "product_product = pd.read_csv('Product-Product.csv')\n",
    "\n",
    "client_client = pd.read_csv('Client-Client.csv')\n"
   ]
  },
  {
   "cell_type": "code",
   "execution_count": null,
   "metadata": {},
   "outputs": [],
   "source": [
    "# Creating a graph from the edge list\n",
    "\n",
    "graph_product = nx.from_pandas_edgelist(product_product, 'Source', 'Target')\n",
    "\n",
    "# Basic network analysis\n",
    "print(f'Number of nodes: {graph_product.number_of_nodes()}')\n",
    "print(f'Number of edges: {graph_product.number_of_edges()}')\n",
    "\n",
    "nx.draw(graph_product, with_labels=True, font_weight='bold')\n",
    "plt.show()"
   ]
  },
  {
   "cell_type": "code",
   "execution_count": null,
   "metadata": {},
   "outputs": [],
   "source": [
    "nodes_per_class = product_product.groupby('modularity_class')['Id'].count()\n",
    "\n",
    "# Display the result\n",
    "print(nodes_per_class)"
   ]
  }
 ],
 "metadata": {
  "kernelspec": {
   "display_name": "Python 3",
   "language": "python",
   "name": "python3"
  },
  "language_info": {
   "codemirror_mode": {
    "name": "ipython",
    "version": 3
   },
   "file_extension": ".py",
   "mimetype": "text/x-python",
   "name": "python",
   "nbconvert_exporter": "python",
   "pygments_lexer": "ipython3",
   "version": "3.7.9"
  }
 },
 "nbformat": 4,
 "nbformat_minor": 2
}
